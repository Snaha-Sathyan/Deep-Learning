{
 "cells": [
  {
   "cell_type": "code",
   "execution_count": 9,
   "metadata": {},
   "outputs": [],
   "source": [
    "import numpy as np\n",
    "import pandas as pd\n",
    "from sklearn import preprocessing\n",
    "from sklearn.preprocessing import MinMaxScaler\n",
    "from sklearn.model_selection import train_test_split\n",
    "import keras\n",
    "from keras.models import Sequential\n",
    "from keras.layers import Dense,Dropout,Activation\n",
    "from keras.optimizers import Adam\n",
    "from keras.utils import to_categorical"
   ]
  },
  {
   "cell_type": "code",
   "execution_count": 38,
   "metadata": {},
   "outputs": [],
   "source": [
    "data=pd.read_csv(\"C:/Users/Sneha/Desktop/Datasets/sales_data.csv\")"
   ]
  },
  {
   "cell_type": "code",
   "execution_count": 39,
   "metadata": {},
   "outputs": [],
   "source": [
    "#On education\n",
    "data.replace('0. <HS', 'dropout', inplace=True)\n",
    "data.replace('1. HS', 'hs', inplace=True)\n",
    "data.replace('2. Some College', 'associates', inplace=True)\n",
    "data.replace('3. Bach', 'bachelors', inplace=True)\n",
    "data.replace('4. Grad', 'masters', inplace=True)\n",
    "#On age\n",
    "data.replace('1_Unk', 'Unknown', inplace=True)\n",
    "data.replace('2_<=25', '0-25', inplace=True)\n",
    "data.replace('3_<=35', '25-35', inplace=True)\n",
    "data.replace('4_<=45', '35-45', inplace=True)\n",
    "data.replace('5_<=55', '45-55', inplace=True)\n",
    "data.replace('6_<=65', '55-65', inplace=True)\n",
    "data.replace('7_>65', '>65', inplace=True)\n",
    "#On mortgage\n",
    "data.replace('1Low', 'low', inplace=True)\n",
    "data.replace('2Med', 'medium', inplace=True)\n",
    "data.replace('3High', 'high', inplace=True)\n",
    "#On child\n",
    "data.replace('U', 'None', inplace=True)\n",
    "data.replace('0', 'None', inplace=True)\n",
    "#On gender\n",
    "data.replace('U', 'Unknown', inplace=True)\n",
    "#Car_prob\n",
    "data['car_prob']=data['car_prob'].replace(to_replace=1,value=1.0)\n",
    "data['car_prob']=data['car_prob'].replace(to_replace=2,value=.9)\n",
    "data['car_prob']=data['car_prob'].replace(to_replace=3,value=.8)\n",
    "data['car_prob']=data['car_prob'].replace(to_replace=4,value=.7)\n",
    "data['car_prob']=data['car_prob'].replace(to_replace=5,value=.6)\n",
    "data['car_prob']=data['car_prob'].replace(to_replace=6,value=.5)\n",
    "data['car_prob']=data['car_prob'].replace(to_replace=7,value=.4)\n",
    "data['car_prob']=data['car_prob'].replace(to_replace=8,value=.3)\n",
    "data['car_prob']=data['car_prob'].replace(to_replace=9,value=.2)\n",
    "data['car_prob']=data['car_prob'].replace(to_replace=0,value=.1)"
   ]
  },
  {
   "cell_type": "code",
   "execution_count": 43,
   "metadata": {},
   "outputs": [],
   "source": [
    "data['education'].fillna('None', inplace=True)\n",
    "data['marriage'].fillna('Unmarried', inplace=True)\n",
    "data['house_owner'].fillna('Homeless', inplace=True)"
   ]
  },
  {
   "cell_type": "code",
   "execution_count": 44,
   "metadata": {},
   "outputs": [
    {
     "data": {
      "text/plain": [
       "flag            0.0\n",
       "gender          0.0\n",
       "education       0.0\n",
       "house_val       0.0\n",
       "age             0.0\n",
       "online          0.0\n",
       "customer_psy    0.0\n",
       "marriage        0.0\n",
       "child           0.0\n",
       "occupation      0.0\n",
       "mortgage        0.0\n",
       "house_owner     0.0\n",
       "region          0.0\n",
       "car_prob        0.0\n",
       "fam_income      0.0\n",
       "dtype: float64"
      ]
     },
     "execution_count": 44,
     "metadata": {},
     "output_type": "execute_result"
    }
   ],
   "source": [
    "data.isnull().sum()/len(data)*100"
   ]
  },
  {
   "cell_type": "code",
   "execution_count": 45,
   "metadata": {},
   "outputs": [],
   "source": [
    "X = data.drop(columns='flag')\n",
    "y = data['flag']"
   ]
  },
  {
   "cell_type": "code",
   "execution_count": 47,
   "metadata": {},
   "outputs": [],
   "source": [
    "from sklearn import preprocessing\n",
    "le = preprocessing.LabelEncoder()\n",
    "y= le.fit_transform(y)"
   ]
  },
  {
   "cell_type": "code",
   "execution_count": 48,
   "metadata": {},
   "outputs": [],
   "source": [
    "X = pd.get_dummies(X,drop_first=True)"
   ]
  },
  {
   "cell_type": "code",
   "execution_count": 49,
   "metadata": {},
   "outputs": [],
   "source": [
    "scalar=MinMaxScaler(feature_range=(0,1))\n",
    "X=scalar.fit_transform(X)"
   ]
  },
  {
   "cell_type": "code",
   "execution_count": 52,
   "metadata": {},
   "outputs": [],
   "source": [
    "from sklearn.model_selection import train_test_split\n",
    "X_train, X_test, y_train, y_test = train_test_split(X, y, test_size=.3, random_state=0)"
   ]
  },
  {
   "cell_type": "code",
   "execution_count": 51,
   "metadata": {},
   "outputs": [
    {
     "data": {
      "text/plain": [
       "(40000,)"
      ]
     },
     "execution_count": 51,
     "metadata": {},
     "output_type": "execute_result"
    }
   ],
   "source": [
    "y.shape"
   ]
  },
  {
   "cell_type": "code",
   "execution_count": 53,
   "metadata": {},
   "outputs": [
    {
     "name": "stdout",
     "output_type": "stream",
     "text": [
      "(28000, 55)\n",
      "(12000, 55)\n",
      "(28000,)\n",
      "(12000,)\n"
     ]
    }
   ],
   "source": [
    "\n",
    "print(X_train.shape)\n",
    "print(X_test.shape)\n",
    "print(y_train.shape)\n",
    "print(y_test.shape)"
   ]
  },
  {
   "cell_type": "code",
   "execution_count": 54,
   "metadata": {},
   "outputs": [],
   "source": [
    "model=Sequential()\n",
    "model.add(Dense(32,activation='relu',input_dim=55))\n",
    "model.add(Dropout(0.5))\n",
    "model.add(Dense(32,activation='relu'))\n",
    "model.add(Dropout(0.5))\n",
    "model.add(Dense(32,activation='relu'))\n",
    "model.add(Dropout(0.5))\n",
    "model.add(Dense(2,activation='softmax'))"
   ]
  },
  {
   "cell_type": "code",
   "execution_count": 55,
   "metadata": {},
   "outputs": [],
   "source": [
    "model.compile(Adam(lr=.001),loss=\"sparse_categorical_crossentropy\",metrics=[\"accuracy\"])"
   ]
  },
  {
   "cell_type": "code",
   "execution_count": 83,
   "metadata": {},
   "outputs": [
    {
     "name": "stdout",
     "output_type": "stream",
     "text": [
      "Epoch 1/200\n",
      "28000/28000 [==============================] - 2s 55us/step - loss: 0.5727 - accuracy: 0.7060\n",
      "Epoch 2/200\n",
      "28000/28000 [==============================] - 1s 53us/step - loss: 0.5741 - accuracy: 0.7040\n",
      "Epoch 3/200\n",
      "28000/28000 [==============================] - 2s 57us/step - loss: 0.5748 - accuracy: 0.7060\n",
      "Epoch 4/200\n",
      "28000/28000 [==============================] - 2s 56us/step - loss: 0.5742 - accuracy: 0.7065\n",
      "Epoch 5/200\n",
      "28000/28000 [==============================] - 1s 49us/step - loss: 0.5721 - accuracy: 0.7084\n",
      "Epoch 6/200\n",
      "28000/28000 [==============================] - 1s 50us/step - loss: 0.5731 - accuracy: 0.7071\n",
      "Epoch 7/200\n",
      "28000/28000 [==============================] - 1s 51us/step - loss: 0.5739 - accuracy: 0.7044\n",
      "Epoch 8/200\n",
      "28000/28000 [==============================] - 1s 50us/step - loss: 0.5718 - accuracy: 0.7065\n",
      "Epoch 9/200\n",
      "28000/28000 [==============================] - 1s 51us/step - loss: 0.5713 - accuracy: 0.7053\n",
      "Epoch 10/200\n",
      "28000/28000 [==============================] - 1s 51us/step - loss: 0.5724 - accuracy: 0.7038\n",
      "Epoch 11/200\n",
      "28000/28000 [==============================] - 1s 53us/step - loss: 0.5738 - accuracy: 0.7029\n",
      "Epoch 12/200\n",
      "28000/28000 [==============================] - 1s 52us/step - loss: 0.5739 - accuracy: 0.7048\n",
      "Epoch 13/200\n",
      "28000/28000 [==============================] - 1s 53us/step - loss: 0.5738 - accuracy: 0.7054\n",
      "Epoch 14/200\n",
      "28000/28000 [==============================] - 1s 51us/step - loss: 0.5751 - accuracy: 0.7041\n",
      "Epoch 15/200\n",
      "28000/28000 [==============================] - 2s 54us/step - loss: 0.5746 - accuracy: 0.7028\n",
      "Epoch 16/200\n",
      "28000/28000 [==============================] - 2s 55us/step - loss: 0.5737 - accuracy: 0.7014\n",
      "Epoch 17/200\n",
      "28000/28000 [==============================] - 2s 58us/step - loss: 0.5731 - accuracy: 0.7046\n",
      "Epoch 18/200\n",
      "28000/28000 [==============================] - 2s 55us/step - loss: 0.5744 - accuracy: 0.7034\n",
      "Epoch 19/200\n",
      "28000/28000 [==============================] - 1s 51us/step - loss: 0.5727 - accuracy: 0.7027\n",
      "Epoch 20/200\n",
      "28000/28000 [==============================] - 1s 49us/step - loss: 0.5747 - accuracy: 0.7028\n",
      "Epoch 21/200\n",
      "28000/28000 [==============================] - 1s 44us/step - loss: 0.5743 - accuracy: 0.7042\n",
      "Epoch 22/200\n",
      "28000/28000 [==============================] - 1s 47us/step - loss: 0.5751 - accuracy: 0.7037\n",
      "Epoch 23/200\n",
      "28000/28000 [==============================] - 1s 51us/step - loss: 0.5742 - accuracy: 0.7029\n",
      "Epoch 24/200\n",
      "28000/28000 [==============================] - 1s 50us/step - loss: 0.5735 - accuracy: 0.7056\n",
      "Epoch 25/200\n",
      "28000/28000 [==============================] - 1s 47us/step - loss: 0.5726 - accuracy: 0.7061\n",
      "Epoch 26/200\n",
      "28000/28000 [==============================] - 1s 45us/step - loss: 0.5725 - accuracy: 0.7050\n",
      "Epoch 27/200\n",
      "28000/28000 [==============================] - 1s 45us/step - loss: 0.5731 - accuracy: 0.7073\n",
      "Epoch 28/200\n",
      "28000/28000 [==============================] - 1s 45us/step - loss: 0.5727 - accuracy: 0.7095\n",
      "Epoch 29/200\n",
      "28000/28000 [==============================] - 1s 50us/step - loss: 0.5722 - accuracy: 0.7065\n",
      "Epoch 30/200\n",
      "28000/28000 [==============================] - 1s 47us/step - loss: 0.5739 - accuracy: 0.7055\n",
      "Epoch 31/200\n",
      "28000/28000 [==============================] - 1s 47us/step - loss: 0.5721 - accuracy: 0.7030\n",
      "Epoch 32/200\n",
      "28000/28000 [==============================] - 1s 49us/step - loss: 0.5713 - accuracy: 0.7084\n",
      "Epoch 33/200\n",
      "28000/28000 [==============================] - 1s 46us/step - loss: 0.5732 - accuracy: 0.7042\n",
      "Epoch 34/200\n",
      "28000/28000 [==============================] - 1s 48us/step - loss: 0.5736 - accuracy: 0.7049\n",
      "Epoch 35/200\n",
      "28000/28000 [==============================] - 1s 47us/step - loss: 0.5729 - accuracy: 0.7015\n",
      "Epoch 36/200\n",
      "28000/28000 [==============================] - 1s 48us/step - loss: 0.5737 - accuracy: 0.7048\n",
      "Epoch 37/200\n",
      "28000/28000 [==============================] - 1s 47us/step - loss: 0.5725 - accuracy: 0.7042\n",
      "Epoch 38/200\n",
      "28000/28000 [==============================] - 1s 46us/step - loss: 0.5720 - accuracy: 0.7055\n",
      "Epoch 39/200\n",
      "28000/28000 [==============================] - 1s 47us/step - loss: 0.5739 - accuracy: 0.7033\n",
      "Epoch 40/200\n",
      "28000/28000 [==============================] - 1s 49us/step - loss: 0.5735 - accuracy: 0.7022\n",
      "Epoch 41/200\n",
      "28000/28000 [==============================] - 1s 53us/step - loss: 0.5720 - accuracy: 0.7058\n",
      "Epoch 42/200\n",
      "28000/28000 [==============================] - 2s 54us/step - loss: 0.5724 - accuracy: 0.7068\n",
      "Epoch 43/200\n",
      "28000/28000 [==============================] - 1s 52us/step - loss: 0.5723 - accuracy: 0.7035\n",
      "Epoch 44/200\n",
      "28000/28000 [==============================] - 2s 58us/step - loss: 0.5728 - accuracy: 0.7059\n",
      "Epoch 45/200\n",
      "28000/28000 [==============================] - 2s 56us/step - loss: 0.5744 - accuracy: 0.7054\n",
      "Epoch 46/200\n",
      "28000/28000 [==============================] - 1s 53us/step - loss: 0.5715 - accuracy: 0.7051\n",
      "Epoch 47/200\n",
      "28000/28000 [==============================] - 2s 56us/step - loss: 0.5708 - accuracy: 0.7043\n",
      "Epoch 48/200\n",
      "28000/28000 [==============================] - 1s 48us/step - loss: 0.5722 - accuracy: 0.7080\n",
      "Epoch 49/200\n",
      "28000/28000 [==============================] - 1s 49us/step - loss: 0.5737 - accuracy: 0.7046\n",
      "Epoch 50/200\n",
      "28000/28000 [==============================] - 1s 45us/step - loss: 0.5733 - accuracy: 0.7042\n",
      "Epoch 51/200\n",
      "28000/28000 [==============================] - 1s 47us/step - loss: 0.5743 - accuracy: 0.7054\n",
      "Epoch 52/200\n",
      "28000/28000 [==============================] - 1s 46us/step - loss: 0.5717 - accuracy: 0.7074\n",
      "Epoch 53/200\n",
      "28000/28000 [==============================] - 1s 46us/step - loss: 0.5729 - accuracy: 0.7053\n",
      "Epoch 54/200\n",
      "28000/28000 [==============================] - 3s 93us/step - loss: 0.5717 - accuracy: 0.7066\n",
      "Epoch 55/200\n",
      "28000/28000 [==============================] - 2s 75us/step - loss: 0.5733 - accuracy: 0.7042\n",
      "Epoch 56/200\n",
      "28000/28000 [==============================] - 2s 89us/step - loss: 0.5740 - accuracy: 0.7044\n",
      "Epoch 57/200\n",
      "28000/28000 [==============================] - 3s 92us/step - loss: 0.5724 - accuracy: 0.7036\n",
      "Epoch 58/200\n",
      "28000/28000 [==============================] - 2s 88us/step - loss: 0.5731 - accuracy: 0.7065\n",
      "Epoch 59/200\n",
      "28000/28000 [==============================] - 2s 54us/step - loss: 0.5736 - accuracy: 0.7040\n",
      "Epoch 60/200\n",
      "28000/28000 [==============================] - 1s 51us/step - loss: 0.5705 - accuracy: 0.7050\n",
      "Epoch 61/200\n",
      "28000/28000 [==============================] - 1s 45us/step - loss: 0.5734 - accuracy: 0.7033\n",
      "Epoch 62/200\n",
      "28000/28000 [==============================] - 1s 49us/step - loss: 0.5727 - accuracy: 0.7034\n",
      "Epoch 63/200\n",
      "28000/28000 [==============================] - 1s 50us/step - loss: 0.5730 - accuracy: 0.7048\n",
      "Epoch 64/200\n",
      "28000/28000 [==============================] - 1s 49us/step - loss: 0.5704 - accuracy: 0.7051\n",
      "Epoch 65/200\n",
      "28000/28000 [==============================] - 1s 45us/step - loss: 0.5737 - accuracy: 0.7069\n",
      "Epoch 66/200\n",
      "28000/28000 [==============================] - 1s 45us/step - loss: 0.5708 - accuracy: 0.7058\n",
      "Epoch 67/200\n",
      "28000/28000 [==============================] - 1s 44us/step - loss: 0.5698 - accuracy: 0.7078\n",
      "Epoch 68/200\n",
      "28000/28000 [==============================] - 1s 45us/step - loss: 0.5709 - accuracy: 0.7075\n",
      "Epoch 69/200\n",
      "28000/28000 [==============================] - 1s 45us/step - loss: 0.5708 - accuracy: 0.7075\n",
      "Epoch 70/200\n",
      "28000/28000 [==============================] - 1s 46us/step - loss: 0.5727 - accuracy: 0.7052\n",
      "Epoch 71/200\n",
      "28000/28000 [==============================] - 1s 45us/step - loss: 0.5704 - accuracy: 0.7048\n",
      "Epoch 72/200\n",
      "28000/28000 [==============================] - 1s 45us/step - loss: 0.5693 - accuracy: 0.7083\n",
      "Epoch 73/200\n",
      "28000/28000 [==============================] - 1s 45us/step - loss: 0.5700 - accuracy: 0.7074\n",
      "Epoch 74/200\n",
      "28000/28000 [==============================] - 1s 47us/step - loss: 0.5711 - accuracy: 0.7066\n",
      "Epoch 75/200\n",
      "28000/28000 [==============================] - 1s 46us/step - loss: 0.5716 - accuracy: 0.7061\n",
      "Epoch 76/200\n",
      "28000/28000 [==============================] - 1s 45us/step - loss: 0.5724 - accuracy: 0.7034\n",
      "Epoch 77/200\n",
      "28000/28000 [==============================] - 1s 45us/step - loss: 0.5717 - accuracy: 0.7067\n",
      "Epoch 78/200\n",
      "28000/28000 [==============================] - 1s 45us/step - loss: 0.5705 - accuracy: 0.7095\n",
      "Epoch 79/200\n",
      "28000/28000 [==============================] - 1s 46us/step - loss: 0.5705 - accuracy: 0.7058\n",
      "Epoch 80/200\n",
      "28000/28000 [==============================] - 1s 45us/step - loss: 0.5715 - accuracy: 0.7077\n",
      "Epoch 81/200\n",
      "28000/28000 [==============================] - 1s 45us/step - loss: 0.5716 - accuracy: 0.7083\n",
      "Epoch 82/200\n",
      "28000/28000 [==============================] - 1s 45us/step - loss: 0.5704 - accuracy: 0.7099\n",
      "Epoch 83/200\n",
      "28000/28000 [==============================] - 1s 45us/step - loss: 0.5722 - accuracy: 0.7056\n",
      "Epoch 84/200\n",
      "28000/28000 [==============================] - 1s 46us/step - loss: 0.5685 - accuracy: 0.7114\n",
      "Epoch 85/200\n",
      "28000/28000 [==============================] - 1s 48us/step - loss: 0.5703 - accuracy: 0.7078\n",
      "Epoch 86/200\n",
      "28000/28000 [==============================] - 1s 53us/step - loss: 0.5720 - accuracy: 0.7063\n",
      "Epoch 87/200\n",
      "28000/28000 [==============================] - 1s 52us/step - loss: 0.5709 - accuracy: 0.7080\n",
      "Epoch 88/200\n",
      "28000/28000 [==============================] - 1s 48us/step - loss: 0.5719 - accuracy: 0.7075\n",
      "Epoch 89/200\n",
      "28000/28000 [==============================] - 1s 53us/step - loss: 0.5710 - accuracy: 0.7074\n",
      "Epoch 90/200\n",
      "28000/28000 [==============================] - 1s 46us/step - loss: 0.5725 - accuracy: 0.7069\n",
      "Epoch 91/200\n",
      "28000/28000 [==============================] - 1s 46us/step - loss: 0.5717 - accuracy: 0.7080\n",
      "Epoch 92/200\n",
      "28000/28000 [==============================] - 1s 46us/step - loss: 0.5731 - accuracy: 0.7036\n",
      "Epoch 93/200\n",
      "28000/28000 [==============================] - 1s 52us/step - loss: 0.5721 - accuracy: 0.7057\n",
      "Epoch 94/200\n",
      "28000/28000 [==============================] - 2s 59us/step - loss: 0.5697 - accuracy: 0.7082\n",
      "Epoch 95/200\n",
      "28000/28000 [==============================] - 2s 56us/step - loss: 0.5715 - accuracy: 0.7057\n",
      "Epoch 96/200\n",
      "28000/28000 [==============================] - 1s 50us/step - loss: 0.5696 - accuracy: 0.7089\n",
      "Epoch 97/200\n",
      "28000/28000 [==============================] - 1s 49us/step - loss: 0.5706 - accuracy: 0.7072\n",
      "Epoch 98/200\n",
      "28000/28000 [==============================] - 1s 48us/step - loss: 0.5706 - accuracy: 0.7051\n",
      "Epoch 99/200\n",
      "28000/28000 [==============================] - 2s 65us/step - loss: 0.5712 - accuracy: 0.7086\n",
      "Epoch 100/200\n",
      "28000/28000 [==============================] - 3s 99us/step - loss: 0.5712 - accuracy: 0.7096\n",
      "Epoch 101/200\n",
      "28000/28000 [==============================] - 3s 98us/step - loss: 0.5722 - accuracy: 0.7067 0s - l - ETA: 0s - loss: 0.5733 - accuracy: \n",
      "Epoch 102/200\n",
      "28000/28000 [==============================] - 3s 97us/step - loss: 0.5717 - accuracy: 0.7079\n",
      "Epoch 103/200\n",
      "28000/28000 [==============================] - 1s 52us/step - loss: 0.5714 - accuracy: 0.7069\n",
      "Epoch 104/200\n",
      "28000/28000 [==============================] - 2s 60us/step - loss: 0.5732 - accuracy: 0.7036\n",
      "Epoch 105/200\n",
      "28000/28000 [==============================] - 1s 53us/step - loss: 0.5708 - accuracy: 0.7067\n",
      "Epoch 106/200\n",
      "28000/28000 [==============================] - 1s 48us/step - loss: 0.5722 - accuracy: 0.7074\n",
      "Epoch 107/200\n",
      "28000/28000 [==============================] - 1s 45us/step - loss: 0.5701 - accuracy: 0.7086\n",
      "Epoch 108/200\n",
      "28000/28000 [==============================] - 2s 54us/step - loss: 0.5737 - accuracy: 0.7048\n",
      "Epoch 109/200\n",
      "28000/28000 [==============================] - 1s 46us/step - loss: 0.5719 - accuracy: 0.7081\n",
      "Epoch 110/200\n",
      "28000/28000 [==============================] - 1s 46us/step - loss: 0.5738 - accuracy: 0.7057\n",
      "Epoch 111/200\n",
      "28000/28000 [==============================] - 1s 45us/step - loss: 0.5710 - accuracy: 0.7081\n",
      "Epoch 112/200\n",
      "28000/28000 [==============================] - 1s 45us/step - loss: 0.5717 - accuracy: 0.7073\n",
      "Epoch 113/200\n",
      "28000/28000 [==============================] - 1s 45us/step - loss: 0.5719 - accuracy: 0.7072\n",
      "Epoch 114/200\n",
      "28000/28000 [==============================] - 1s 45us/step - loss: 0.5708 - accuracy: 0.7098\n",
      "Epoch 115/200\n",
      "28000/28000 [==============================] - 1s 47us/step - loss: 0.5714 - accuracy: 0.7073\n",
      "Epoch 116/200\n",
      "28000/28000 [==============================] - 1s 45us/step - loss: 0.5701 - accuracy: 0.7052\n",
      "Epoch 117/200\n",
      "28000/28000 [==============================] - 1s 45us/step - loss: 0.5726 - accuracy: 0.7073\n",
      "Epoch 118/200\n",
      "28000/28000 [==============================] - 1s 45us/step - loss: 0.5715 - accuracy: 0.7063\n",
      "Epoch 119/200\n",
      "28000/28000 [==============================] - 1s 45us/step - loss: 0.5705 - accuracy: 0.7088\n",
      "Epoch 120/200\n",
      "28000/28000 [==============================] - 1s 46us/step - loss: 0.5718 - accuracy: 0.7059\n",
      "Epoch 121/200\n",
      "28000/28000 [==============================] - 1s 45us/step - loss: 0.5717 - accuracy: 0.7062\n",
      "Epoch 122/200\n",
      "28000/28000 [==============================] - 1s 45us/step - loss: 0.5705 - accuracy: 0.7065\n",
      "Epoch 123/200\n",
      "28000/28000 [==============================] - 1s 45us/step - loss: 0.5711 - accuracy: 0.7099\n",
      "Epoch 124/200\n",
      "28000/28000 [==============================] - 1s 52us/step - loss: 0.5722 - accuracy: 0.7060\n",
      "Epoch 125/200\n",
      "28000/28000 [==============================] - 1s 49us/step - loss: 0.5727 - accuracy: 0.7077\n",
      "Epoch 126/200\n",
      "28000/28000 [==============================] - 1s 50us/step - loss: 0.5687 - accuracy: 0.7106\n",
      "Epoch 127/200\n",
      "28000/28000 [==============================] - 1s 52us/step - loss: 0.5676 - accuracy: 0.7106\n",
      "Epoch 128/200\n",
      "28000/28000 [==============================] - 1s 49us/step - loss: 0.5712 - accuracy: 0.7096\n",
      "Epoch 129/200\n",
      "28000/28000 [==============================] - 1s 44us/step - loss: 0.5710 - accuracy: 0.7048\n",
      "Epoch 130/200\n",
      "28000/28000 [==============================] - 1s 44us/step - loss: 0.5703 - accuracy: 0.7065\n",
      "Epoch 131/200\n",
      "28000/28000 [==============================] - 1s 44us/step - loss: 0.5702 - accuracy: 0.7086\n",
      "Epoch 132/200\n",
      "28000/28000 [==============================] - 1s 47us/step - loss: 0.5693 - accuracy: 0.7060\n",
      "Epoch 133/200\n",
      "28000/28000 [==============================] - 1s 44us/step - loss: 0.5690 - accuracy: 0.7103\n",
      "Epoch 134/200\n",
      "28000/28000 [==============================] - 1s 46us/step - loss: 0.5710 - accuracy: 0.7071\n",
      "Epoch 135/200\n",
      "28000/28000 [==============================] - 1s 44us/step - loss: 0.5716 - accuracy: 0.7076\n",
      "Epoch 136/200\n",
      "28000/28000 [==============================] - 1s 45us/step - loss: 0.5704 - accuracy: 0.7096\n",
      "Epoch 137/200\n",
      "28000/28000 [==============================] - 1s 46us/step - loss: 0.5687 - accuracy: 0.7088\n",
      "Epoch 138/200\n",
      "28000/28000 [==============================] - 1s 45us/step - loss: 0.5719 - accuracy: 0.7061\n",
      "Epoch 139/200\n",
      "28000/28000 [==============================] - 1s 45us/step - loss: 0.5728 - accuracy: 0.7051\n",
      "Epoch 140/200\n",
      "28000/28000 [==============================] - 1s 45us/step - loss: 0.5720 - accuracy: 0.7042\n",
      "Epoch 141/200\n",
      "28000/28000 [==============================] - 1s 45us/step - loss: 0.5711 - accuracy: 0.7051\n",
      "Epoch 142/200\n",
      "28000/28000 [==============================] - 1s 45us/step - loss: 0.5711 - accuracy: 0.7084\n",
      "Epoch 143/200\n",
      "28000/28000 [==============================] - 1s 45us/step - loss: 0.5720 - accuracy: 0.7073\n",
      "Epoch 144/200\n",
      "28000/28000 [==============================] - 1s 45us/step - loss: 0.5732 - accuracy: 0.7062\n",
      "Epoch 145/200\n",
      "28000/28000 [==============================] - 1s 45us/step - loss: 0.5671 - accuracy: 0.7089\n",
      "Epoch 146/200\n",
      "28000/28000 [==============================] - 1s 47us/step - loss: 0.5700 - accuracy: 0.7067\n",
      "Epoch 147/200\n",
      "28000/28000 [==============================] - 1s 48us/step - loss: 0.5703 - accuracy: 0.7075\n",
      "Epoch 148/200\n",
      "28000/28000 [==============================] - 1s 50us/step - loss: 0.5722 - accuracy: 0.7053\n",
      "Epoch 149/200\n",
      "28000/28000 [==============================] - 1s 50us/step - loss: 0.5719 - accuracy: 0.7030\n",
      "Epoch 150/200\n",
      "28000/28000 [==============================] - 1s 50us/step - loss: 0.5710 - accuracy: 0.7079\n",
      "Epoch 151/200\n",
      "28000/28000 [==============================] - 1s 50us/step - loss: 0.5680 - accuracy: 0.7080\n",
      "Epoch 152/200\n",
      "28000/28000 [==============================] - 1s 45us/step - loss: 0.5712 - accuracy: 0.7086\n",
      "Epoch 153/200\n",
      "28000/28000 [==============================] - 1s 45us/step - loss: 0.5720 - accuracy: 0.7062\n",
      "Epoch 154/200\n",
      "28000/28000 [==============================] - 1s 45us/step - loss: 0.5706 - accuracy: 0.7074\n",
      "Epoch 155/200\n",
      "28000/28000 [==============================] - 1s 45us/step - loss: 0.5717 - accuracy: 0.7094\n",
      "Epoch 156/200\n",
      "28000/28000 [==============================] - 1s 46us/step - loss: 0.5719 - accuracy: 0.7064\n",
      "Epoch 157/200\n",
      "28000/28000 [==============================] - 3s 120us/step - loss: 0.5701 - accuracy: 0.7071\n",
      "Epoch 158/200\n",
      "28000/28000 [==============================] - 1s 51us/step - loss: 0.5711 - accuracy: 0.7080\n",
      "Epoch 159/200\n",
      "28000/28000 [==============================] - 1s 51us/step - loss: 0.5707 - accuracy: 0.7082\n",
      "Epoch 160/200\n",
      "28000/28000 [==============================] - 1s 49us/step - loss: 0.5705 - accuracy: 0.7074\n",
      "Epoch 161/200\n",
      "28000/28000 [==============================] - 1s 48us/step - loss: 0.5699 - accuracy: 0.7078\n",
      "Epoch 162/200\n",
      "28000/28000 [==============================] - 1s 47us/step - loss: 0.5706 - accuracy: 0.7072\n",
      "Epoch 163/200\n",
      "28000/28000 [==============================] - 1s 47us/step - loss: 0.5686 - accuracy: 0.7099\n",
      "Epoch 164/200\n",
      "28000/28000 [==============================] - 1s 46us/step - loss: 0.5700 - accuracy: 0.7047\n",
      "Epoch 165/200\n",
      "28000/28000 [==============================] - 1s 45us/step - loss: 0.5713 - accuracy: 0.7060\n",
      "Epoch 166/200\n",
      "28000/28000 [==============================] - 1s 46us/step - loss: 0.5720 - accuracy: 0.7061\n",
      "Epoch 167/200\n",
      "28000/28000 [==============================] - 1s 46us/step - loss: 0.5719 - accuracy: 0.7076\n",
      "Epoch 168/200\n",
      "28000/28000 [==============================] - 1s 48us/step - loss: 0.5685 - accuracy: 0.7080\n",
      "Epoch 169/200\n",
      "28000/28000 [==============================] - 2s 55us/step - loss: 0.5696 - accuracy: 0.7079 0s\n",
      "Epoch 170/200\n",
      "28000/28000 [==============================] - 2s 58us/step - loss: 0.5696 - accuracy: 0.7080\n",
      "Epoch 171/200\n",
      "28000/28000 [==============================] - 2s 56us/step - loss: 0.5694 - accuracy: 0.7089\n",
      "Epoch 172/200\n",
      "28000/28000 [==============================] - 1s 53us/step - loss: 0.5701 - accuracy: 0.7072\n",
      "Epoch 173/200\n",
      "28000/28000 [==============================] - 1s 49us/step - loss: 0.5715 - accuracy: 0.7095\n",
      "Epoch 174/200\n",
      "28000/28000 [==============================] - 1s 46us/step - loss: 0.5690 - accuracy: 0.7072\n",
      "Epoch 175/200\n",
      "28000/28000 [==============================] - 1s 49us/step - loss: 0.5701 - accuracy: 0.7071\n",
      "Epoch 176/200\n",
      "28000/28000 [==============================] - 1s 48us/step - loss: 0.5703 - accuracy: 0.7105\n",
      "Epoch 177/200\n",
      "28000/28000 [==============================] - 1s 49us/step - loss: 0.5709 - accuracy: 0.7066\n",
      "Epoch 178/200\n",
      "28000/28000 [==============================] - 1s 47us/step - loss: 0.5699 - accuracy: 0.7081\n",
      "Epoch 179/200\n",
      "28000/28000 [==============================] - 1s 53us/step - loss: 0.5710 - accuracy: 0.7096\n",
      "Epoch 180/200\n",
      "28000/28000 [==============================] - 2s 57us/step - loss: 0.5677 - accuracy: 0.7096\n",
      "Epoch 181/200\n",
      "28000/28000 [==============================] - 1s 51us/step - loss: 0.5679 - accuracy: 0.7116\n",
      "Epoch 182/200\n",
      "28000/28000 [==============================] - 1s 50us/step - loss: 0.5709 - accuracy: 0.7064\n",
      "Epoch 183/200\n",
      "28000/28000 [==============================] - 1s 51us/step - loss: 0.5715 - accuracy: 0.7084\n",
      "Epoch 184/200\n",
      "28000/28000 [==============================] - 1s 53us/step - loss: 0.5713 - accuracy: 0.7077\n",
      "Epoch 185/200\n",
      "28000/28000 [==============================] - 2s 60us/step - loss: 0.5714 - accuracy: 0.7061\n",
      "Epoch 186/200\n",
      "28000/28000 [==============================] - 1s 48us/step - loss: 0.5690 - accuracy: 0.7079\n",
      "Epoch 187/200\n",
      "28000/28000 [==============================] - 1s 47us/step - loss: 0.5699 - accuracy: 0.7082\n",
      "Epoch 188/200\n",
      "28000/28000 [==============================] - 1s 48us/step - loss: 0.5694 - accuracy: 0.7068\n",
      "Epoch 189/200\n",
      "28000/28000 [==============================] - 1s 47us/step - loss: 0.5696 - accuracy: 0.7089\n",
      "Epoch 190/200\n",
      "28000/28000 [==============================] - 3s 98us/step - loss: 0.5722 - accuracy: 0.7092\n",
      "Epoch 191/200\n",
      "28000/28000 [==============================] - 2s 83us/step - loss: 0.5693 - accuracy: 0.7093\n",
      "Epoch 192/200\n",
      "28000/28000 [==============================] - 3s 114us/step - loss: 0.5689 - accuracy: 0.7093\n",
      "Epoch 193/200\n",
      "28000/28000 [==============================] - 3s 124us/step - loss: 0.5704 - accuracy: 0.7081\n",
      "Epoch 194/200\n",
      "28000/28000 [==============================] - 4s 142us/step - loss: 0.5695 - accuracy: 0.7086\n",
      "Epoch 195/200\n",
      "28000/28000 [==============================] - 3s 109us/step - loss: 0.5685 - accuracy: 0.7094\n",
      "Epoch 196/200\n",
      "28000/28000 [==============================] - 4s 148us/step - loss: 0.5699 - accuracy: 0.7089\n",
      "Epoch 197/200\n",
      "28000/28000 [==============================] - 3s 100us/step - loss: 0.5716 - accuracy: 0.7071\n",
      "Epoch 198/200\n",
      "28000/28000 [==============================] - 2s 58us/step - loss: 0.5706 - accuracy: 0.7079\n",
      "Epoch 199/200\n",
      "28000/28000 [==============================] - 3s 115us/step - loss: 0.5706 - accuracy: 0.7099\n",
      "Epoch 200/200\n",
      "28000/28000 [==============================] - 3s 91us/step - loss: 0.5685 - accuracy: 0.7089\n"
     ]
    }
   ],
   "source": [
    "model_info=model.fit(X_train,y_train,batch_size=100,epochs=200)"
   ]
  },
  {
   "cell_type": "code",
   "execution_count": 84,
   "metadata": {},
   "outputs": [
    {
     "name": "stdout",
     "output_type": "stream",
     "text": [
      "12000/12000 [==============================] - 0s 36us/step\n",
      "\n",
      "accuracy:68.58%\n"
     ]
    }
   ],
   "source": [
    "scores=model.evaluate(X_test,y_test,batch_size=100)\n",
    "print(\"\\n%s:%.2f%%\" % (model_.metrics_names[1],scores[1]*100))"
   ]
  },
  {
   "cell_type": "code",
   "execution_count": 124,
   "metadata": {},
   "outputs": [],
   "source": [
    "y_pred=model.predict(X_test,batch_size=100)"
   ]
  },
  {
   "cell_type": "code",
   "execution_count": 68,
   "metadata": {},
   "outputs": [],
   "source": [
    "#import tensorflow as tf\n",
    "from keras import metrics\n",
    "accu=keras.metrics.binary_accuracy(y_test, y_pred)"
   ]
  },
  {
   "cell_type": "code",
   "execution_count": 104,
   "metadata": {},
   "outputs": [],
   "source": [
    "def plot_model_history(model_history):\n",
    "    fig, axs = plt.subplots(1,2,figsize=(15,5))\n",
    "    #for accuracy\n",
    "    axs[0].plot(range(1,len(model_history.history['accuracy'])+1),model_history.history['accuracy'])\n",
    "    axs[0].set_title('Model Accuracy')\n",
    "    axs[0].set_ylabel('Accuracy')\n",
    "    axs[0].set_xlabel('Epoch')\n",
    "    axs[0].set_xticks(np.arange(1,len(model_history.history['accuracy'])+1),len(model_history.history['accuracy'])/10)\n",
    "    axs[0].legend(['train'], loc='best')\n",
    "    # for loss\n",
    "    axs[1].plot(range(1,len(model_history.history['loss'])+1),model_history.history['loss'])\n",
    "    axs[1].set_title('Model Loss')\n",
    "    axs[1].set_ylabel('Loss')\n",
    "    axs[1].set_xlabel('Epoch')\n",
    "    axs[1].set_xticks(np.arange(1,len(model_history.history['loss'])+1),len(model_history.history['loss'])/10)\n",
    "    axs[1].legend(['train'], loc='best')\n",
    "    plt.show()"
   ]
  },
  {
   "cell_type": "code",
   "execution_count": 105,
   "metadata": {},
   "outputs": [
    {
     "data": {
      "image/png": "[encoded data removed]",
      "text/plain": [
       "<Figure size 1080x360 with 2 Axes>"
      ]
     },
     "metadata": {
      "needs_background": "light"
     },
     "output_type": "display_data"
    }
   ],
   "source": [
    "import matplotlib.pyplot as plt\n",
    "%matplotlib inline\n",
    "plot_model_history(model_info)"
   ]
  },
  {
   "cell_type": "code",
   "execution_count": 117,
   "metadata": {},
   "outputs": [
    {
     "name": "stdout",
     "output_type": "stream",
     "text": [
      "model_accuracy: 0.71\n"
     ]
    }
   ],
   "source": [
    "a=model_info.history['accuracy']\n",
    "a_=np.max(a)\n",
    "print('model_accuracy: %.2f' % a_)"
   ]
  },
  {
   "cell_type": "code",
   "execution_count": 118,
   "metadata": {},
   "outputs": [
    {
     "name": "stdout",
     "output_type": "stream",
     "text": [
      "model_loss: 0.57\n"
     ]
    }
   ],
   "source": [
    "b=model_info.history['loss']\n",
    "b_=np.min(b)\n",
    "print(\"model_loss: %.2f\" % b_)"
   ]
  },
  {
   "cell_type": "code",
   "execution_count": 130,
   "metadata": {},
   "outputs": [
    {
     "name": "stdout",
     "output_type": "stream",
     "text": [
      "              precision    recall  f1-score   support\n",
      "\n",
      "           0       0.70      0.65      0.67      5951\n",
      "           1       0.68      0.72      0.70      6049\n",
      "\n",
      "    accuracy                           0.69     12000\n",
      "   macro avg       0.69      0.69      0.69     12000\n",
      "weighted avg       0.69      0.69      0.69     12000\n",
      "\n"
     ]
    }
   ],
   "source": [
    "from sklearn.metrics import classification_report\n",
    "y_pred=model.predict(X_test,batch_size=100)\n",
    "#y_pred = model.predict(x_test, batch_size=64, verbose=1)\n",
    "y_pred_bool = np.argmax(y_pred,axis=1)\n",
    "\n",
    "print(classification_report(y_test, y_pred_bool))"
   ]
  }
 ],
 "metadata": {
  "kernelspec": {
   "display_name": "Python 3",
   "language": "python",
   "name": "python3"
  },
  "language_info": {
   "codemirror_mode": {
    "name": "ipython",
    "version": 3
   },
   "file_extension": ".py",
   "mimetype": "text/x-python",
   "name": "python",
   "nbconvert_exporter": "python",
   "pygments_lexer": "ipython3",
   "version": "3.7.3"
  }
 },
 "nbformat": 4,
 "nbformat_minor": 2
}
